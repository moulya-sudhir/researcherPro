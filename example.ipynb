{
 "cells": [
  {
   "cell_type": "code",
   "execution_count": 1,
   "metadata": {},
   "outputs": [
    {
     "name": "stderr",
     "output_type": "stream",
     "text": [
      "[nltk_data] Downloading package stopwords to /Users/Dell/nltk_data...\n",
      "[nltk_data]   Package stopwords is already up-to-date!\n",
      "[nltk_data] Downloading package punkt to /Users/Dell/nltk_data...\n",
      "[nltk_data]   Package punkt is already up-to-date!\n",
      "[nltk_data] Downloading package wordnet to /Users/Dell/nltk_data...\n",
      "[nltk_data]   Package wordnet is already up-to-date!\n"
     ]
    }
   ],
   "source": [
    "from scripts.utils import preprocess_dataset\n",
    "from scripts.searcher import get_top_n_documents, get_relevant_article_information"
   ]
  },
  {
   "cell_type": "code",
   "execution_count": 2,
   "metadata": {},
   "outputs": [],
   "source": [
    "csv_path = 'data/all_articles.csv'\n",
    "vectorizer_save_path = 'data/tfidf_data/vectorizer.pkl'\n",
    "tfidf_save_path = 'data/tfidf_data/tfidf_matrix.pkl'\n",
    "json_path = 'data/all_jsons.json'"
   ]
  },
  {
   "cell_type": "code",
   "execution_count": 3,
   "metadata": {},
   "outputs": [],
   "source": [
    "# Preprocess the dataset (ONLY IF NOT DONE OR DATA CHANGES)\n",
    "# preprocess_dataset(csv_path, vectorizer_save_path, tfidf_save_path)"
   ]
  },
  {
   "cell_type": "code",
   "execution_count": 4,
   "metadata": {},
   "outputs": [],
   "source": [
    "# GET TOP N DOCUMENTS \n",
    "question = 'Dialogue Systems'\n",
    "n = 3\n",
    "data_path = 'data/all_articles_preprocessed.csv'\n",
    "top_n_documents = get_top_n_documents(n, question, data_path, vectorizer_save_path, tfidf_save_path)"
   ]
  },
  {
   "cell_type": "code",
   "execution_count": 5,
   "metadata": {},
   "outputs": [],
   "source": [
    "# GET ALL RELEVANT INFORMATION FROM THE TOP N DOCUMENTS\n",
    "\n",
    "relevant_articles_info = get_relevant_article_information(top_n_documents, json_path)"
   ]
  },
  {
   "cell_type": "code",
   "execution_count": 6,
   "metadata": {},
   "outputs": [
    {
     "data": {
      "text/html": [
       "<div>\n",
       "<style scoped>\n",
       "    .dataframe tbody tr th:only-of-type {\n",
       "        vertical-align: middle;\n",
       "    }\n",
       "\n",
       "    .dataframe tbody tr th {\n",
       "        vertical-align: top;\n",
       "    }\n",
       "\n",
       "    .dataframe thead th {\n",
       "        text-align: right;\n",
       "    }\n",
       "</style>\n",
       "<table border=\"1\" class=\"dataframe\">\n",
       "  <thead>\n",
       "    <tr style=\"text-align: right;\">\n",
       "      <th></th>\n",
       "      <th>title</th>\n",
       "      <th>abstract</th>\n",
       "      <th>result</th>\n",
       "      <th>limitation</th>\n",
       "      <th>conclusion</th>\n",
       "    </tr>\n",
       "  </thead>\n",
       "  <tbody>\n",
       "    <tr>\n",
       "      <th>0</th>\n",
       "      <td>EM Pre-training for Multi-party Dialogue Respo...</td>\n",
       "      <td>Dialogue response generation requires an agent...</td>\n",
       "      <td>For human evaluation, we recruit a team with 8...</td>\n",
       "      <td>First, Due to the lack of datasets to evaluate...</td>\n",
       "      <td>NaN</td>\n",
       "    </tr>\n",
       "    <tr>\n",
       "      <th>1</th>\n",
       "      <td>One Cannot Stand for Everyone! Leveraging Mult...</td>\n",
       "      <td>User simulators are agents designed to imitate...</td>\n",
       "      <td>Automatic Evaluation. As seen in Tab. 2, Sys-M...</td>\n",
       "      <td>The main limitation of this work is that we on...</td>\n",
       "      <td>In this paper, we propose a framework named MU...</td>\n",
       "    </tr>\n",
       "    <tr>\n",
       "      <th>2</th>\n",
       "      <td>Fine-grained Conversational Decoding via Isotr...</td>\n",
       "      <td>General-purpose text decoding approaches are u...</td>\n",
       "      <td>Table 2 lists the results of human evaluation.</td>\n",
       "      <td>During the experiments, we found that for a si...</td>\n",
       "      <td>In this work, we present a fine-grained conver...</td>\n",
       "    </tr>\n",
       "  </tbody>\n",
       "</table>\n",
       "</div>"
      ],
      "text/plain": [
       "                                               title  \\\n",
       "0  EM Pre-training for Multi-party Dialogue Respo...   \n",
       "1  One Cannot Stand for Everyone! Leveraging Mult...   \n",
       "2  Fine-grained Conversational Decoding via Isotr...   \n",
       "\n",
       "                                            abstract  \\\n",
       "0  Dialogue response generation requires an agent...   \n",
       "1  User simulators are agents designed to imitate...   \n",
       "2  General-purpose text decoding approaches are u...   \n",
       "\n",
       "                                              result  \\\n",
       "0  For human evaluation, we recruit a team with 8...   \n",
       "1  Automatic Evaluation. As seen in Tab. 2, Sys-M...   \n",
       "2     Table 2 lists the results of human evaluation.   \n",
       "\n",
       "                                          limitation  \\\n",
       "0  First, Due to the lack of datasets to evaluate...   \n",
       "1  The main limitation of this work is that we on...   \n",
       "2  During the experiments, we found that for a si...   \n",
       "\n",
       "                                          conclusion  \n",
       "0                                                NaN  \n",
       "1  In this paper, we propose a framework named MU...  \n",
       "2  In this work, we present a fine-grained conver...  "
      ]
     },
     "execution_count": 6,
     "metadata": {},
     "output_type": "execute_result"
    }
   ],
   "source": [
    "relevant_articles_info"
   ]
  }
 ],
 "metadata": {
  "kernelspec": {
   "display_name": "Python 3",
   "language": "python",
   "name": "python3"
  },
  "language_info": {
   "codemirror_mode": {
    "name": "ipython",
    "version": 3
   },
   "file_extension": ".py",
   "mimetype": "text/x-python",
   "name": "python",
   "nbconvert_exporter": "python",
   "pygments_lexer": "ipython3",
   "version": "3.11.5"
  }
 },
 "nbformat": 4,
 "nbformat_minor": 2
}
