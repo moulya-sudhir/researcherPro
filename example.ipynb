{
 "cells": [
  {
   "cell_type": "code",
   "execution_count": 1,
   "metadata": {},
   "outputs": [
    {
     "name": "stderr",
     "output_type": "stream",
     "text": [
      "[nltk_data] Downloading package stopwords to /Users/Dell/nltk_data...\n",
      "[nltk_data]   Package stopwords is already up-to-date!\n",
      "[nltk_data] Downloading package punkt to /Users/Dell/nltk_data...\n",
      "[nltk_data]   Package punkt is already up-to-date!\n",
      "[nltk_data] Downloading package wordnet to /Users/Dell/nltk_data...\n",
      "[nltk_data]   Package wordnet is already up-to-date!\n"
     ]
    }
   ],
   "source": [
    "from scripts.utils import preprocess_dataset\n",
    "from scripts.similaritysearch import get_top_n_documents"
   ]
  },
  {
   "cell_type": "code",
   "execution_count": 2,
   "metadata": {},
   "outputs": [],
   "source": [
    "# Preprocess the dataset (ONLY IF NOT DONE OR DATA CHANGES)\n",
    "\n",
    "csv_path = 'data/all_articles.csv'\n",
    "vectorizer_save_path = 'data/tfidf_data/vectorizer.pkl'\n",
    "tfidf_save_path = 'data/tfidf_data/tfidf_matrix.pkl'\n",
    "\n",
    "preprocess_dataset(csv_path, vectorizer_save_path, tfidf_save_path)"
   ]
  },
  {
   "cell_type": "code",
   "execution_count": 3,
   "metadata": {},
   "outputs": [],
   "source": [
    "# GET TOP N DOCUMENTS \n",
    "question = 'Give me articles about Dialogue Systems'\n",
    "n = 3\n",
    "data_path = 'data/all_articles_preprocessed.csv'\n",
    "top_n_documents = get_top_n_documents(n, question, data_path, vectorizer_save_path, tfidf_save_path)"
   ]
  },
  {
   "cell_type": "code",
   "execution_count": 8,
   "metadata": {},
   "outputs": [
    {
     "name": "stdout",
     "output_type": "stream",
     "text": [
      "The Zipfian Challenge: Learning the statistical fingerprint of natural languages\n",
      "EM Pre-training for Multi-party Dialogue Response Generation\n",
      "One Cannot Stand for Everyone! Leveraging Multiple User Simulators to train Task-oriented Dialogue Systems\n"
     ]
    }
   ],
   "source": [
    "for title in top_n_documents.keys():\n",
    "    print(title)"
   ]
  }
 ],
 "metadata": {
  "kernelspec": {
   "display_name": "Python 3",
   "language": "python",
   "name": "python3"
  },
  "language_info": {
   "codemirror_mode": {
    "name": "ipython",
    "version": 3
   },
   "file_extension": ".py",
   "mimetype": "text/x-python",
   "name": "python",
   "nbconvert_exporter": "python",
   "pygments_lexer": "ipython3",
   "version": "3.11.5"
  }
 },
 "nbformat": 4,
 "nbformat_minor": 2
}
